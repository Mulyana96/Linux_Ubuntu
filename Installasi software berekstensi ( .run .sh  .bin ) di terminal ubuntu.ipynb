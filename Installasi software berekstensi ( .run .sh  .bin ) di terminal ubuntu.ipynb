{
 "cells": [
  {
   "cell_type": "markdown",
   "id": "f4ff31bf",
   "metadata": {
    "slideshow": {
     "slide_type": "slide"
    }
   },
   "source": [
    "# Installasi software berekstensi ( .run .sh .bin ) di terminal ubuntu"
   ]
  },
  {
   "cell_type": "markdown",
   "id": "6a4654f5",
   "metadata": {
    "slideshow": {
     "slide_type": "slide"
    }
   },
   "source": [
    "1. Buka terminal\n",
    "2. Masuk kedirectory file disimpan / cd Downloads\n",
    "3. Gunakan permission mode\n",
    "4. Ketik sudo chmod 755 xampp.run / sudo chmod 755 xampp tekan Tab\n",
    "5. Ketik ls file secara automatis berubah warna\n",
    "6. Proses installasi ketik sudo ./xampp.run tekan Tab\n",
    "7. Tunggu sampai proses install selesai\n"
   ]
  }
 ],
 "metadata": {
  "celltoolbar": "Slideshow",
  "kernelspec": {
   "display_name": "Python 3 (ipykernel)",
   "language": "python",
   "name": "python3"
  },
  "language_info": {
   "codemirror_mode": {
    "name": "ipython",
    "version": 3
   },
   "file_extension": ".py",
   "mimetype": "text/x-python",
   "name": "python",
   "nbconvert_exporter": "python",
   "pygments_lexer": "ipython3",
   "version": "3.11.9"
  }
 },
 "nbformat": 4,
 "nbformat_minor": 5
}
