{
 "cells": [
  {
   "cell_type": "markdown",
   "id": "699143b6",
   "metadata": {
    "slideshow": {
     "slide_type": "slide"
    }
   },
   "source": [
    "# Mengenal Lebih Jauh tentang Linux\n"
   ]
  },
  {
   "cell_type": "markdown",
   "id": "472e6502",
   "metadata": {
    "slideshow": {
     "slide_type": "subslide"
    }
   },
   "source": [
    "Linux, bagi sebagian orang, mungkin terdengar asing. Namun, tahukah Anda bahwa sistem operasi Linux ada di mana-mana?  Mulai dari smartphone Android yang Anda gunakan sehari-hari, hingga server yang menjalankan website favorit Anda, banyak yang  didukung oleh Linux. "
   ]
  },
  {
   "cell_type": "markdown",
   "id": "abb910bb",
   "metadata": {
    "slideshow": {
     "slide_type": "slide"
    }
   },
   "source": [
    "# Apa itu Linux?"
   ]
  },
  {
   "cell_type": "markdown",
   "id": "40abdd62",
   "metadata": {
    "slideshow": {
     "slide_type": "subslide"
    }
   },
   "source": [
    "Linux bukanlah sistem operasi yang lengkap seperti Windows atau MacOS.  Linux adalah kernel, yaitu bagian inti dari sistem operasi yang berinteraksi dengan hardware komputer.  Atas dasar kernel Linux inilah kemudian dikembangkan berbagai macam distribusi Linux yang  menyediakan user interface (antarmuka pengguna) dan program-program yang bisa Anda gunakan.  Pikirkan Linux sebagai fondasi kokoh, sedangkan  distribusi Linux adalah berbagai macam rumah yang dibangun di atasnya, masing-masing dengan  fitur dan tampilan yang berbeda."
   ]
  },
  {
   "cell_type": "markdown",
   "id": "848cf280",
   "metadata": {
    "slideshow": {
     "slide_type": "subslide"
    }
   },
   "source": [
    "# Mengapa Linux Open Source?"
   ]
  },
  {
   "cell_type": "markdown",
   "id": "35f47224",
   "metadata": {
    "slideshow": {
     "slide_type": "subslide"
    }
   },
   "source": [
    "Konsep open source menjadi salah satu keunggulan utama Linux.  Kode sumber Linux  terbuka dan bisa diakses siapa saja.  Hal ini memungkinkan komunitas developer dari seluruh dunia untuk  secara kolaboratif terus mengembangkan dan memperbarui Linux.  Ini juga membuat Linux  gratis untuk digunakan dan dimodifikasi sesuai kebutuhan."
   ]
  },
  {
   "cell_type": "markdown",
   "id": "b4c74b20",
   "metadata": {
    "slideshow": {
     "slide_type": "slide"
    }
   },
   "source": [
    "# Kelebihan dan Kekurangan Linux"
   ]
  },
  {
   "cell_type": "markdown",
   "id": "80b28ec8",
   "metadata": {
    "slideshow": {
     "slide_type": "subslide"
    }
   },
   "source": [
    "Kelebihan:\n",
    "\n",
    "1. Gratis dan Open Source: Seperti disebutkan sebelumnya, Linux gratis untuk digunakan dan dimodifikasi. Anda tidak    perlu mengeluarkan biaya untuk membeli lisensi.\n",
    "2. Keamanan: Linux dikenal dengan reputasinya yang stabil dan aman. Komunitas developer yang besar terus bekerja    untuk menjaga keamanan sistem.\n"
   ]
  },
  {
   "cell_type": "markdown",
   "id": "a256666c",
   "metadata": {
    "slideshow": {
     "slide_type": "subslide"
    }
   },
   "source": [
    "Kekurangan:\n",
    "\n",
    "1. Kurang familiar: Bagi pengguna yang terbiasa dengan Windows atau MacOS, antarmuka Linux mungkin terasa asing pada awalnya.\n",
    "2. Dukungan software: Beberapa software komersial mungkin belum tersedia secara native untuk Linux. Namun, biasanya tersedia alternatif open source yang bisa digunakan.\n"
   ]
  },
  {
   "cell_type": "markdown",
   "id": "7676d312",
   "metadata": {
    "slideshow": {
     "slide_type": "slide"
    }
   },
   "source": [
    "# Jenis-Jenis Distribusi Linux"
   ]
  },
  {
   "cell_type": "markdown",
   "id": "9dada0bd",
   "metadata": {
    "slideshow": {
     "slide_type": "subslide"
    }
   },
   "source": [
    "Ada ratusan distribusi Linux yang tersedia, masing-masing dengan kelebihan dan  kekurangannya sendiri.  Berikut beberapa contoh distro Linux yang populer:\n",
    "\n",
    "   1. Ubuntu: Distro yang mudah digunakan dan cocok untuk pemula.\n",
    "   2. Mint: Distro berbasis Ubuntu yang dikenal dengan kemudahan penggunaannya.\n",
    "   3. Fedora: Distro yang sering digunakan oleh developer karena stabilitas dan fitur-fitur terbarunya."
   ]
  },
  {
   "cell_type": "markdown",
   "id": "fdb3b87a",
   "metadata": {
    "slideshow": {
     "slide_type": "slide"
    }
   },
   "source": [
    "# Apakah Linux Cocok untuk Anda?"
   ]
  },
  {
   "cell_type": "markdown",
   "id": "77a78ab2",
   "metadata": {
    "slideshow": {
     "slide_type": "subslide"
    }
   },
   "source": [
    "Linux menawarkan berbagai kelebihan, terutama bagi pengguna yang menginginkan sistem operasi  gratis, stabil, dan bisa dikustomisasi.  Namun, perlu diingat bahwa  kurva belajar  Linux bisa jadi lebih curam dibandingkan dengan sistem operasi lain.  Jika Anda  tertarik untuk mencoba Linux, tersedia banyak distro yang mudah digunakan  sehingga Anda  bisa mencobanya tanpa perlu khawatir.  Dengan semangat belajar dan dukungan  komunitas  yang besar, Anda pun bisa menjadi pengguna Linux yang handal."
   ]
  },
  {
   "cell_type": "markdown",
   "id": "a43993ba",
   "metadata": {
    "slideshow": {
     "slide_type": "slide"
    }
   },
   "source": [
    "# Mulai Mencoba Linux"
   ]
  },
  {
   "cell_type": "markdown",
   "id": "e175af32",
   "metadata": {
    "slideshow": {
     "slide_type": "subslide"
    }
   },
   "source": [
    "ngin mencoba Linux?  Kabar baiknya, Anda bisa mencoba berbagai distro Linux  tanpa perlu  menghapus sistem operasi yang Anda gunakan saat ini.  Anda bisa menggunakan  Live  CD/USB yang bisa dijalankan langsung dari drive CD/USB tanpa instalasi.  Dengan  begitu, Anda bisa merasakan pengalaman menggunakan Linux sebelum memutuskan  untuk  menginstallnya secara permanen."
   ]
  }
 ],
 "metadata": {
  "celltoolbar": "Slideshow",
  "kernelspec": {
   "display_name": "Python 3 (ipykernel)",
   "language": "python",
   "name": "python3"
  },
  "language_info": {
   "codemirror_mode": {
    "name": "ipython",
    "version": 3
   },
   "file_extension": ".py",
   "mimetype": "text/x-python",
   "name": "python",
   "nbconvert_exporter": "python",
   "pygments_lexer": "ipython3",
   "version": "3.11.9"
  }
 },
 "nbformat": 4,
 "nbformat_minor": 5
}
