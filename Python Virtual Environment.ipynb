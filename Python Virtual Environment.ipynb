{
 "cells": [
  {
   "cell_type": "code",
   "execution_count": null,
   "id": "c320e377-4f96-4a1c-aa1a-a502e261bfa5",
   "metadata": {},
   "outputs": [],
   "source": [
    "Python Virtual Environment Versi Ubuntu Linux by Jupyter Notebook: \n",
    "\n",
    "1. Buka terminal\n",
    "   \n",
    "2. Buat Folder baru python Virtual misal :\n",
    "   'cd Documents/python_virtual'\n",
    "   \n",
    "3. Cara membuat python virtual baru :\n",
    "   'conda create --name namavirtual python=3.10\n",
    "\n",
    "4. Cara melihat python virtual yang sudah dibuat :\n",
    "   'conda env list'\n",
    "\n",
    "5. Cara aktivasi python virtual/pindah ke python virtual baru :\n",
    "   'conda activate \"nama python virtual\"\n",
    "\n",
    "6. Cara keluar python virtual :\n",
    "   'conda deactivate \"nama python virtual\"\n",
    "\n",
    "7. Cara menghapus python virtual :\n",
    "   'conda env remove -n \"nama python virtual yang ingin dihapus\"\n",
    "\n",
    "   Note : * Akhiri selalu dengan menekan \"Enter\" *\n",
    "           * Tutorial ini dibuat dengan Anaconda python *\n",
    "   \n",
    "   \n",
    "\n",
    "\n",
    "\n",
    " \n",
    "   \n",
    "\n"
   ]
  }
 ],
 "metadata": {
  "kernelspec": {
   "display_name": "Python 3 (ipykernel)",
   "language": "python",
   "name": "python3"
  },
  "language_info": {
   "codemirror_mode": {
    "name": "ipython",
    "version": 3
   },
   "file_extension": ".py",
   "mimetype": "text/x-python",
   "name": "python",
   "nbconvert_exporter": "python",
   "pygments_lexer": "ipython3",
   "version": "3.11.7"
  }
 },
 "nbformat": 4,
 "nbformat_minor": 5
}
