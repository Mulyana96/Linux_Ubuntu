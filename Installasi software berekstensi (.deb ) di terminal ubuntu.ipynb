{
 "cells": [
  {
   "cell_type": "markdown",
   "id": "9d01bb9b",
   "metadata": {
    "slideshow": {
     "slide_type": "slide"
    }
   },
   "source": [
    "# Installasi software berekstensi (.deb ) di terminal ubuntu\n"
   ]
  },
  {
   "cell_type": "markdown",
   "id": "94f4b713",
   "metadata": {
    "slideshow": {
     "slide_type": "subslide"
    }
   },
   "source": [
    "1. Buka terminal ubuntu\n",
    "2. Masuk ke directory penyimpananan file / misal cd Downloads\n",
    "3. Ketik sudo dpkg -i google chroom.deb / sudo dpkg -i google lalu tekan Tab.\n",
    "4. Tekan Enter dan tunggu sampai selesai"
   ]
  }
 ],
 "metadata": {
  "celltoolbar": "Slideshow",
  "kernelspec": {
   "display_name": "Python 3 (ipykernel)",
   "language": "python",
   "name": "python3"
  },
  "language_info": {
   "codemirror_mode": {
    "name": "ipython",
    "version": 3
   },
   "file_extension": ".py",
   "mimetype": "text/x-python",
   "name": "python",
   "nbconvert_exporter": "python",
   "pygments_lexer": "ipython3",
   "version": "3.11.9"
  }
 },
 "nbformat": 4,
 "nbformat_minor": 5
}
