{
 "cells": [
  {
   "cell_type": "markdown",
   "id": "c6b129fb",
   "metadata": {
    "slideshow": {
     "slide_type": "slide"
    }
   },
   "source": [
    "# Cara menghapus Repository Github"
   ]
  },
  {
   "cell_type": "markdown",
   "id": "94c6947b",
   "metadata": {
    "slideshow": {
     "slide_type": "slide"
    }
   },
   "source": [
    "1. Buka akun github\n",
    "2. Masuk Ke Repository yang mau di hapus\n",
    "3. Pilih menu setting lalu scroll ke bawah\n",
    "4. Pilih This delete Repository lalu klik\n",
    "5. Masukan nama Repository yang mau dihapus lalu pilih delete\n"
   ]
  }
 ],
 "metadata": {
  "celltoolbar": "Slideshow",
  "kernelspec": {
   "display_name": "Python 3 (ipykernel)",
   "language": "python",
   "name": "python3"
  },
  "language_info": {
   "codemirror_mode": {
    "name": "ipython",
    "version": 3
   },
   "file_extension": ".py",
   "mimetype": "text/x-python",
   "name": "python",
   "nbconvert_exporter": "python",
   "pygments_lexer": "ipython3",
   "version": "3.11.9"
  }
 },
 "nbformat": 4,
 "nbformat_minor": 5
}
