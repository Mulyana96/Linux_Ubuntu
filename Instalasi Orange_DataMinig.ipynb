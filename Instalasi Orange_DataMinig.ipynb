{
 "cells": [
  {
   "cell_type": "code",
   "execution_count": null,
   "id": "800c1d0d",
   "metadata": {
    "slideshow": {
     "slide_type": "slide"
    }
   },
   "outputs": [],
   "source": [
    "# Cara install Orange3 di ubuntu Terminal\n",
    "\n",
    "Instalasi menggunakan Anaconda :\n",
    "\n",
    "1. Buka Terminal\n",
    "\n",
    "2. Buat Folder : \n",
    "   \"mkdir Orange\"\n",
    "\n",
    "3. Masuk Folder :\n",
    "   \"cd Documents/Orange\n",
    "\n",
    "4. Ketikan perintah :\n",
    "   \"conda install orange3\" (Instalasi akan berjalan)\n",
    "\n",
    "5. Untuk membuka Orange :\n",
    "   \"orange-canvas\""
   ]
  }
 ],
 "metadata": {
  "celltoolbar": "Slideshow",
  "kernelspec": {
   "display_name": "Python 3 (ipykernel)",
   "language": "python",
   "name": "python3"
  },
  "language_info": {
   "codemirror_mode": {
    "name": "ipython",
    "version": 3
   },
   "file_extension": ".py",
   "mimetype": "text/x-python",
   "name": "python",
   "nbconvert_exporter": "python",
   "pygments_lexer": "ipython3",
   "version": "3.11.9"
  }
 },
 "nbformat": 4,
 "nbformat_minor": 5
}
