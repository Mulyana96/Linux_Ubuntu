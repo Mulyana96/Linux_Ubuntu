{
 "cells": [
  {
   "cell_type": "code",
   "execution_count": null,
   "id": "657eb2b5",
   "metadata": {},
   "outputs": [],
   "source": [
    "Instalasi Visual Studio Code di Ubuntu\n",
    "\n",
    "Instalasi menggunakan Anaconda\n",
    "    \n",
    "    1. Buka Terminal\n",
    "    \n",
    "    2. Buat Directory baru :\n",
    "       \" mkdir Vs_Code\"\n",
    "    \n",
    "    3. Masuk ke Directory misal :\n",
    "       \"cd Documents/Vs_Code\"\n",
    "    \n",
    "    4. Software VScode yang telah di Download masukan ke Folder :\n",
    "       \"VsCode\"\n",
    "    \n",
    "    5. Ketikan perintah :\n",
    "       \"sudo dpkg -i nama file (vs code)\" tekan tab lalu Enter\n",
    "    \n",
    "    6. Untuk membuka VsCode ketikan perintah:\n",
    "       \"code\""
   ]
  }
 ],
 "metadata": {
  "kernelspec": {
   "display_name": "Python 3 (ipykernel)",
   "language": "python",
   "name": "python3"
  },
  "language_info": {
   "codemirror_mode": {
    "name": "ipython",
    "version": 3
   },
   "file_extension": ".py",
   "mimetype": "text/x-python",
   "name": "python",
   "nbconvert_exporter": "python",
   "pygments_lexer": "ipython3",
   "version": "3.11.9"
  }
 },
 "nbformat": 4,
 "nbformat_minor": 5
}
